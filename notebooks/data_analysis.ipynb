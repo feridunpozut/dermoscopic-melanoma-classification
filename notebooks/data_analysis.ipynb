{
 "cells": [
  {
   "cell_type": "markdown",
   "id": "5d58f78f",
   "metadata": {},
   "source": [
    "## 1. Sınıf Dağılım Analizi"
   ]
  },
  {
   "cell_type": "code",
   "execution_count": null,
   "id": "4a39b136",
   "metadata": {},
   "outputs": [
    {
     "name": "stderr",
     "output_type": "stream",
     "text": [
      "/tmp/ipykernel_126870/3019268958.py:10: FutureWarning: \n",
      "\n",
      "Passing `palette` without assigning `hue` is deprecated and will be removed in v0.14.0. Assign the `x` variable to `hue` and set `legend=False` for the same effect.\n",
      "\n",
      "  sns.barplot(x=class_counts.index, y=class_counts.values, palette='viridis')\n"
     ]
    },
    {
     "data": {
      "image/png": "[encoded data removed]",
      "text/plain": [
       "<Figure size 640x480 with 1 Axes>"
      ]
     },
     "metadata": {},
     "output_type": "display_data"
    },
    {
     "name": "stdout",
     "output_type": "stream",
     "text": [
      "Benign oranı: 49.99%\n"
     ]
    },
    {
     "name": "stderr",
     "output_type": "stream",
     "text": [
      "/tmp/ipykernel_126870/3019268958.py:16: FutureWarning: Series.__getitem__ treating keys as positions is deprecated. In a future version, integer keys will always be treated as labels (consistent with DataFrame behavior). To access a value by position, use `ser.iloc[pos]`\n",
      "  benign_ratio = class_counts[0] / class_counts.sum()\n"
     ]
    }
   ],
   "source": [
    "import pandas as pd\n",
    "import seaborn as sns\n",
    "import matplotlib.pyplot as plt\n",
    "\n",
    "df = pd.read_csv('/mnt/c/Users/frdnp/Desktop/Projects/dermoscopic-melanoma-classification/data/splits/train_val_dataset_2.csv')  # image_path, label (0=benign, 1=malignant)\n",
    "df['image_path'] = df['image'].apply(lambda x: f\"/mnt/c/Users/frdnp/Desktop/Projects/dermoscopic-melanoma-classification/data/raw/train/images/{x}.jpg\")\n",
    "class_counts = df['label'].value_counts().sort_index()\n",
    "class_counts.index = ['benign', 'melanoma']\n",
    "\n",
    "sns.barplot(x=class_counts.index, y=class_counts.values, palette='viridis')\n",
    "plt.title(\"Sınıf Dağılımı\")\n",
    "plt.ylabel(\"Görüntü Sayısı\")\n",
    "plt.xlabel(\"Sınıflar\")\n",
    "plt.show()\n",
    "\n",
    "benign_ratio = class_counts[0] / class_counts.sum()\n",
    "print(f\"Benign oranı: {benign_ratio:.2%}\")\n"
   ]
  },
  {
   "cell_type": "markdown",
   "id": "e6c67610",
   "metadata": {},
   "source": [
    "## 2. Görüntü Kalitesi Analizi"
   ]
  },
  {
   "cell_type": "code",
   "execution_count": null,
   "id": "d6716328",
   "metadata": {},
   "outputs": [
    {
     "name": "stderr",
     "output_type": "stream",
     "text": [
      "Evaluating BRISQUE & noise: 100%|██████████| 7571/7571 [30:39<00:00,  4.11it/s]  \n"
     ]
    }
   ],
   "source": [
    "import os\n",
    "import pandas as pd\n",
    "import torch\n",
    "import torchvision.transforms as T\n",
    "from PIL import Image\n",
    "from skimage.io import imread\n",
    "from skimage import img_as_float\n",
    "from skimage.restoration import estimate_sigma\n",
    "from tqdm import tqdm\n",
    "import piq\n",
    "import numpy as np\n",
    "\n",
    "# Veriyi yükle\n",
    "image_paths = df['image_path'].tolist()\n",
    "\n",
    "transform = T.Compose([\n",
    "    T.Resize((128, 128)),\n",
    "    T.ToTensor()\n",
    "])\n",
    "\n",
    "results = []\n",
    "\n",
    "for img_path in tqdm(image_paths, desc=\"Evaluating BRISQUE & noise\"):\n",
    "    img_pil = Image.open(img_path).convert(\"RGB\")\n",
    "    img_tensor = transform(img_pil).unsqueeze(0)\n",
    "\n",
    "    brisque_score = piq.brisque(img_tensor, data_range=1.0).item()\n",
    "\n",
    "    # Gürültü tahmini (skimage ile)\n",
    "    img_rgb = imread(img_path)\n",
    "    img_float = img_as_float(img_rgb)\n",
    "    sigma = estimate_sigma(img_float, channel_axis=-1 if img_float.ndim == 3 else None)\n",
    "    noise_estimate = np.mean(sigma)\n",
    "\n",
    "    results.append({\n",
    "        'image_path': img_path,\n",
    "        'brisque_score': brisque_score,\n",
    "        'noise_estimate': noise_estimate\n",
    "    })\n",
    "\n",
    "\n",
    "\n",
    "quality_df = pd.DataFrame(results)\n"
   ]
  },
  {
   "cell_type": "code",
   "execution_count": 14,
   "id": "ac54e7cf",
   "metadata": {},
   "outputs": [
    {
     "data": {
      "text/html": [
       "<div>\n",
       "<style scoped>\n",
       "    .dataframe tbody tr th:only-of-type {\n",
       "        vertical-align: middle;\n",
       "    }\n",
       "\n",
       "    .dataframe tbody tr th {\n",
       "        vertical-align: top;\n",
       "    }\n",
       "\n",
       "    .dataframe thead th {\n",
       "        text-align: right;\n",
       "    }\n",
       "</style>\n",
       "<table border=\"1\" class=\"dataframe\">\n",
       "  <thead>\n",
       "    <tr style=\"text-align: right;\">\n",
       "      <th></th>\n",
       "      <th>image_path</th>\n",
       "      <th>brisque_score</th>\n",
       "      <th>noise_estimate</th>\n",
       "    </tr>\n",
       "  </thead>\n",
       "  <tbody>\n",
       "    <tr>\n",
       "      <th>0</th>\n",
       "      <td>/mnt/c/Users/frdnp/Desktop/Projects/dermoscopi...</td>\n",
       "      <td>23.951233</td>\n",
       "      <td>0.001226</td>\n",
       "    </tr>\n",
       "    <tr>\n",
       "      <th>1</th>\n",
       "      <td>/mnt/c/Users/frdnp/Desktop/Projects/dermoscopi...</td>\n",
       "      <td>13.855896</td>\n",
       "      <td>0.001510</td>\n",
       "    </tr>\n",
       "    <tr>\n",
       "      <th>2</th>\n",
       "      <td>/mnt/c/Users/frdnp/Desktop/Projects/dermoscopi...</td>\n",
       "      <td>2.207886</td>\n",
       "      <td>0.001696</td>\n",
       "    </tr>\n",
       "    <tr>\n",
       "      <th>3</th>\n",
       "      <td>/mnt/c/Users/frdnp/Desktop/Projects/dermoscopi...</td>\n",
       "      <td>12.641907</td>\n",
       "      <td>0.001477</td>\n",
       "    </tr>\n",
       "    <tr>\n",
       "      <th>4</th>\n",
       "      <td>/mnt/c/Users/frdnp/Desktop/Projects/dermoscopi...</td>\n",
       "      <td>8.689270</td>\n",
       "      <td>0.001590</td>\n",
       "    </tr>\n",
       "    <tr>\n",
       "      <th>...</th>\n",
       "      <td>...</td>\n",
       "      <td>...</td>\n",
       "      <td>...</td>\n",
       "    </tr>\n",
       "    <tr>\n",
       "      <th>7566</th>\n",
       "      <td>/mnt/c/Users/frdnp/Desktop/Projects/dermoscopi...</td>\n",
       "      <td>19.362976</td>\n",
       "      <td>0.001324</td>\n",
       "    </tr>\n",
       "    <tr>\n",
       "      <th>7567</th>\n",
       "      <td>/mnt/c/Users/frdnp/Desktop/Projects/dermoscopi...</td>\n",
       "      <td>8.861267</td>\n",
       "      <td>0.001356</td>\n",
       "    </tr>\n",
       "    <tr>\n",
       "      <th>7568</th>\n",
       "      <td>/mnt/c/Users/frdnp/Desktop/Projects/dermoscopi...</td>\n",
       "      <td>14.021545</td>\n",
       "      <td>0.001477</td>\n",
       "    </tr>\n",
       "    <tr>\n",
       "      <th>7569</th>\n",
       "      <td>/mnt/c/Users/frdnp/Desktop/Projects/dermoscopi...</td>\n",
       "      <td>10.546997</td>\n",
       "      <td>0.001864</td>\n",
       "    </tr>\n",
       "    <tr>\n",
       "      <th>7570</th>\n",
       "      <td>/mnt/c/Users/frdnp/Desktop/Projects/dermoscopi...</td>\n",
       "      <td>11.349854</td>\n",
       "      <td>0.002083</td>\n",
       "    </tr>\n",
       "  </tbody>\n",
       "</table>\n",
       "<p>7571 rows × 3 columns</p>\n",
       "</div>"
      ],
      "text/plain": [
       "                                             image_path  brisque_score  \\\n",
       "0     /mnt/c/Users/frdnp/Desktop/Projects/dermoscopi...      23.951233   \n",
       "1     /mnt/c/Users/frdnp/Desktop/Projects/dermoscopi...      13.855896   \n",
       "2     /mnt/c/Users/frdnp/Desktop/Projects/dermoscopi...       2.207886   \n",
       "3     /mnt/c/Users/frdnp/Desktop/Projects/dermoscopi...      12.641907   \n",
       "4     /mnt/c/Users/frdnp/Desktop/Projects/dermoscopi...       8.689270   \n",
       "...                                                 ...            ...   \n",
       "7566  /mnt/c/Users/frdnp/Desktop/Projects/dermoscopi...      19.362976   \n",
       "7567  /mnt/c/Users/frdnp/Desktop/Projects/dermoscopi...       8.861267   \n",
       "7568  /mnt/c/Users/frdnp/Desktop/Projects/dermoscopi...      14.021545   \n",
       "7569  /mnt/c/Users/frdnp/Desktop/Projects/dermoscopi...      10.546997   \n",
       "7570  /mnt/c/Users/frdnp/Desktop/Projects/dermoscopi...      11.349854   \n",
       "\n",
       "      noise_estimate  \n",
       "0           0.001226  \n",
       "1           0.001510  \n",
       "2           0.001696  \n",
       "3           0.001477  \n",
       "4           0.001590  \n",
       "...              ...  \n",
       "7566        0.001324  \n",
       "7567        0.001356  \n",
       "7568        0.001477  \n",
       "7569        0.001864  \n",
       "7570        0.002083  \n",
       "\n",
       "[7571 rows x 3 columns]"
      ]
     },
     "execution_count": 14,
     "metadata": {},
     "output_type": "execute_result"
    }
   ],
   "source": [
    "quality_df"
   ]
  },
  {
   "cell_type": "code",
   "execution_count": 16,
   "id": "59e5d7d7",
   "metadata": {},
   "outputs": [],
   "source": [
    "def classify_image_quality(brisque, noise):\n",
    "    if brisque < 30 and noise < 0.01:\n",
    "        return 'high'\n",
    "    elif brisque < 50 and noise < 0.03:\n",
    "        return 'medium'\n",
    "    else:\n",
    "        return 'low'\n",
    "\n",
    "quality_df['quality_class'] = quality_df.apply(lambda row: classify_image_quality(row['brisque_score'], row['noise_estimate']), axis=1)\n"
   ]
  },
  {
   "cell_type": "code",
   "execution_count": 19,
   "id": "b52d7a6f",
   "metadata": {},
   "outputs": [
    {
     "data": {
      "text/plain": [
       "quality_class\n",
       "high      6050\n",
       "medium    1250\n",
       "low        271\n",
       "Name: count, dtype: int64"
      ]
     },
     "execution_count": 19,
     "metadata": {},
     "output_type": "execute_result"
    }
   ],
   "source": [
    "quality_df['quality_class'].value_counts()"
   ]
  },
  {
   "cell_type": "code",
   "execution_count": 18,
   "id": "924cc84e",
   "metadata": {},
   "outputs": [
    {
     "data": {
      "image/png": "[encoded data removed]",
      "text/plain": [
       "<Figure size 640x480 with 1 Axes>"
      ]
     },
     "metadata": {},
     "output_type": "display_data"
    }
   ],
   "source": [
    "quality_df['quality_class'].value_counts().plot(kind='bar', color=['green', 'orange', 'red'])\n",
    "plt.title(\"Görüntü Kalite Sınıfları\")\n",
    "plt.xlabel(\"Kalite Sınıfı\")\n",
    "plt.ylabel(\"Görüntü Sayısı\")\n",
    "plt.show()"
   ]
  },
  {
   "cell_type": "code",
   "execution_count": null,
   "id": "d3b9c3ba",
   "metadata": {},
   "outputs": [],
   "source": [
    "quality_df.to_csv(\"../experiments/results/image_quality_metrics.csv\", index=False)"
   ]
  }
 ],
 "metadata": {
  "kernelspec": {
   "display_name": "venv",
   "language": "python",
   "name": "python3"
  },
  "language_info": {
   "codemirror_mode": {
    "name": "ipython",
    "version": 3
   },
   "file_extension": ".py",
   "mimetype": "text/x-python",
   "name": "python",
   "nbconvert_exporter": "python",
   "pygments_lexer": "ipython3",
   "version": "3.12.3"
  }
 },
 "nbformat": 4,
 "nbformat_minor": 5
}
